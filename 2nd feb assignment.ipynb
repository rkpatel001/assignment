{
 "cells": [
  {
   "cell_type": "code",
   "execution_count": null,
   "id": "88ca583c-dded-436a-98db-8ed92cb6286d",
   "metadata": {},
   "outputs": [],
   "source": [
    "# Question Number 1"
   ]
  },
  {
   "cell_type": "code",
   "execution_count": 1,
   "id": "65574b78-8db6-4c5e-ad7e-de833022d636",
   "metadata": {},
   "outputs": [
    {
     "name": "stdout",
     "output_type": "stream",
     "text": [
      "r\n",
      "o\n",
      "a\n",
      "n\n",
      "k\n"
     ]
    }
   ],
   "source": [
    "# For loop is use when we know  the iteration \n",
    "\n",
    "s = \"roank\"\n",
    "\n",
    "for i in s:\n",
    "    print(i)\n",
    "    \n",
    "    "
   ]
  },
  {
   "cell_type": "code",
   "execution_count": 2,
   "id": "b7733e48-4ce6-4975-8c8a-b3cbf39429f0",
   "metadata": {},
   "outputs": [
    {
     "name": "stdout",
     "output_type": "stream",
     "text": [
      "while loop\n",
      "1\n",
      "2\n",
      "3\n",
      "4\n",
      "5\n"
     ]
    }
   ],
   "source": [
    "# while loop is use when we don't know the iteration\n",
    "print(\"while loop\")\n",
    "\n",
    "i = 1\n",
    "while i < 6:\n",
    "  print(i)\n",
    "  i +=1"
   ]
  },
  {
   "cell_type": "code",
   "execution_count": 3,
   "id": "0c6e87da-f53e-4bdb-8017-a52f7c2dc344",
   "metadata": {},
   "outputs": [],
   "source": [
    "# Question Number 2 "
   ]
  },
  {
   "cell_type": "code",
   "execution_count": 4,
   "id": "ca06476f-a7c6-47cd-9301-272c162b0b7b",
   "metadata": {},
   "outputs": [
    {
     "data": {
      "text/plain": [
       "55"
      ]
     },
     "execution_count": 4,
     "metadata": {},
     "output_type": "execute_result"
    }
   ],
   "source": [
    "# sum of first 10 natural number \n",
    "\n",
    "l = [1,2,3,4,5,6,7,8,9,10]\n",
    "\n",
    "s=0\n",
    "\n",
    "for i in l:\n",
    "    s=s+i\n",
    "s"
   ]
  },
  {
   "cell_type": "code",
   "execution_count": 5,
   "id": "c9f56509-8ddf-4d86-b627-d5a4d46a59e1",
   "metadata": {},
   "outputs": [
    {
     "data": {
      "text/plain": [
       "3628800"
      ]
     },
     "execution_count": 5,
     "metadata": {},
     "output_type": "execute_result"
    }
   ],
   "source": [
    "# Product of first 10 natural number \n",
    "\n",
    "l = [1,2,3,4,5,6,7,8,9,10]\n",
    "\n",
    "p=1\n",
    "\n",
    "for i in l:\n",
    "    p=p*i\n",
    "p"
   ]
  },
  {
   "cell_type": "code",
   "execution_count": 6,
   "id": "2490c521-f676-4ad6-8461-935f80218ac2",
   "metadata": {},
   "outputs": [],
   "source": [
    "# Question Number 3"
   ]
  },
  {
   "cell_type": "code",
   "execution_count": 7,
   "id": "5185e0c7-0148-4dec-8c2c-d0a28454afa1",
   "metadata": {},
   "outputs": [
    {
     "name": "stdin",
     "output_type": "stream",
     "text": [
      "Enter unit :  310\n"
     ]
    },
    {
     "name": "stdout",
     "output_type": "stream",
     "text": [
      "2250\n"
     ]
    }
   ],
   "source": [
    "unit = int(input(\"Enter unit : \"))\n",
    "\n",
    "if unit>0 and unit<=100:\n",
    "    print(unit*4.5)\n",
    "\n",
    "elif unit>100 and unit<=200:\n",
    "    print((unit-100)*6+450)\n",
    "    \n",
    "elif unit>200 and unit<=300:\n",
    "    print((unit-200)*10+1050)\n",
    "    \n",
    "elif unit>300:\n",
    "    print((unit-300)*20+2050)\n",
    "    \n",
    "else:\n",
    "    print(\"SOMETHING WENT WRONG!!\")\n",
    "    \n"
   ]
  },
  {
   "cell_type": "code",
   "execution_count": 8,
   "id": "5bd31fce-9128-429b-a1bc-428d39a5bdea",
   "metadata": {},
   "outputs": [],
   "source": [
    "# Question Number 4"
   ]
  },
  {
   "cell_type": "code",
   "execution_count": 12,
   "id": "2dd01338-9a53-4c02-a622-42c2f6d7bc8b",
   "metadata": {},
   "outputs": [
    {
     "name": "stdout",
     "output_type": "stream",
     "text": [
      "[1, 2, 3, 4, 5, 6, 7, 8, 9, 10, 11, 12, 13, 14, 15, 16, 17, 18, 19, 20, 21, 22, 23, 24, 25, 26, 27, 28, 29, 30, 31, 32, 33, 34, 35, 36, 37, 38, 39, 40, 41, 42, 43, 44, 45, 46, 47, 48, 49, 50, 51, 52, 53, 54, 55, 56, 57, 58, 59, 60, 61, 62, 63, 64, 65, 66, 67, 68, 69, 70, 71, 72, 73, 74, 75, 76, 77, 78, 79, 80, 81, 82, 83, 84, 85, 86, 87, 88, 89, 90, 91, 92, 93, 94, 95, 96, 97, 98, 99, 100]\n"
     ]
    }
   ],
   "source": [
    "# print 1 to 100 number \n",
    "\n",
    "l=list(range(1,101))\n",
    "\n",
    "print(l)\n",
    "\n",
    "\n"
   ]
  },
  {
   "cell_type": "code",
   "execution_count": 13,
   "id": "1ec54b4d-dd9c-4534-824e-653bfa028bb9",
   "metadata": {},
   "outputs": [
    {
     "name": "stdout",
     "output_type": "stream",
     "text": [
      "[1, 8, 27, 64, 125, 216, 343, 512, 729, 1000, 1331, 1728, 2197, 2744, 3375, 4096, 4913, 5832, 6859, 8000, 9261, 10648, 12167, 13824, 15625, 17576, 19683, 21952, 24389, 27000, 29791, 32768, 35937, 39304, 42875, 46656, 50653, 54872, 59319, 64000, 68921, 74088, 79507, 85184, 91125, 97336, 103823, 110592, 117649, 125000, 132651, 140608, 148877, 157464, 166375, 175616, 185193, 195112, 205379, 216000, 226981, 238328, 250047, 262144, 274625, 287496, 300763, 314432, 328509, 343000, 357911, 373248, 389017, 405224, 421875, 438976, 456533, 474552, 493039, 512000, 531441, 551368, 571787, 592704, 614125, 636056, 658503, 681472, 704969, 729000, 753571, 778688, 804357, 830584, 857375, 884736, 912673, 941192, 970299, 1000000]\n"
     ]
    }
   ],
   "source": [
    "# cube of 1 to 100 number\n",
    "\n",
    "cube = 1\n",
    "l2=[]\n",
    "for i in l :\n",
    "    l2.append(i*i*i)\n",
    "    \n",
    "print(l2)\n",
    "    "
   ]
  },
  {
   "cell_type": "code",
   "execution_count": 14,
   "id": "67ad8847-142e-4e9a-921e-c11d3b271709",
   "metadata": {},
   "outputs": [
    {
     "name": "stdout",
     "output_type": "stream",
     "text": [
      "[8, 64, 125, 216, 512, 1000, 1728, 2744, 3375, 4096, 5832, 8000, 10648, 13824, 15625, 17576, 21952, 27000, 32768, 39304, 42875, 46656, 54872, 64000, 74088, 85184, 91125, 97336, 110592, 125000, 140608, 157464, 166375, 175616, 195112, 216000, 238328, 262144, 274625, 287496, 314432, 343000, 373248, 405224, 421875, 438976, 474552, 512000, 551368, 592704, 614125, 636056, 681472, 729000, 778688, 830584, 857375, 884736, 941192, 1000000]\n"
     ]
    }
   ],
   "source": [
    "# check its is divisiable by 4 and 5 if it is then store in another list\n",
    "\n",
    "\n",
    "l3=[]\n",
    "for r in range(0,len(l2)):    \n",
    "    if l2[r]%4==0 or l2[r]%5==0: \n",
    "        l3.append(l2[r])\n",
    "        \n",
    "print(l3)"
   ]
  },
  {
   "cell_type": "code",
   "execution_count": null,
   "id": "68060420-f406-4d87-91fa-017b4808b63d",
   "metadata": {},
   "outputs": [],
   "source": []
  },
  {
   "cell_type": "code",
   "execution_count": null,
   "id": "3be4e7e7-edd8-43de-bc2a-1faf01b3669c",
   "metadata": {},
   "outputs": [],
   "source": []
  },
  {
   "cell_type": "code",
   "execution_count": null,
   "id": "0a06bc0b-2e7a-4b4f-b2ce-80a0f0f6b428",
   "metadata": {},
   "outputs": [],
   "source": []
  },
  {
   "cell_type": "code",
   "execution_count": 15,
   "id": "b39991e6-629b-48f5-9605-d22038c70b7b",
   "metadata": {},
   "outputs": [],
   "source": [
    "# Question Number 5"
   ]
  },
  {
   "cell_type": "code",
   "execution_count": null,
   "id": "0f0c0627-1c2b-4464-9265-2b9767953cdd",
   "metadata": {},
   "outputs": [],
   "source": [
    "s = \"I want to become a data scientist\"\n",
    "\n",
    "v = \"a\",\"e\",\"i\",\"o\",\"u\"\n",
    "\n",
    "r=filter(v,s)\n",
    "\n",
    "print(r)\n",
    "\n",
    "\n",
    "# i know its wrong mathod but i tried"
   ]
  }
 ],
 "metadata": {
  "kernelspec": {
   "display_name": "Python 3 (ipykernel)",
   "language": "python",
   "name": "python3"
  },
  "language_info": {
   "codemirror_mode": {
    "name": "ipython",
    "version": 3
   },
   "file_extension": ".py",
   "mimetype": "text/x-python",
   "name": "python",
   "nbconvert_exporter": "python",
   "pygments_lexer": "ipython3",
   "version": "3.10.8"
  }
 },
 "nbformat": 4,
 "nbformat_minor": 5
}
