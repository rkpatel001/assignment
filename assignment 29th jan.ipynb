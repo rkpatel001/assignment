{
 "cells": [
  {
   "cell_type": "code",
   "execution_count": null,
   "id": "23eb6552-a293-46e1-83fd-3d119f5ce320",
   "metadata": {},
   "outputs": [],
   "source": [
    "Who developed the python language?\n",
    "\n",
    "Guido van Rossum\n"
   ]
  },
  {
   "cell_type": "code",
   "execution_count": null,
   "id": "c66056e9-021e-46d5-8567-992b05f9d048",
   "metadata": {},
   "outputs": [],
   "source": [
    "Which type of programming language dose python support ?\n",
    "\n",
    "Python is interpreted language that support object orianted programming lanuguange it can support oops concept.\n"
   ]
  },
  {
   "cell_type": "code",
   "execution_count": null,
   "id": "7d10aff7-a698-4b08-836f-670df200246f",
   "metadata": {},
   "outputs": [],
   "source": [
    "Is python case-sensetive when dealing with identifiers ?\n",
    "\n",
    "Yes python is case-sensetive lanuage it know the differance A to Z and a to z.\n"
   ]
  },
  {
   "cell_type": "code",
   "execution_count": null,
   "id": "1322d9fe-4d64-40cd-b6c5-227c9e19167b",
   "metadata": {},
   "outputs": [],
   "source": [
    "What is the correct extentation of python file ?\n",
    "\n",
    "The correct extantation of python file is .py\n"
   ]
  },
  {
   "cell_type": "code",
   "execution_count": null,
   "id": "579fffac-9836-4484-9c3c-42b903514899",
   "metadata": {},
   "outputs": [],
   "source": [
    "Is python code compiled or interprited ?\n",
    "\n",
    "Python code is interprited .\n"
   ]
  },
  {
   "cell_type": "code",
   "execution_count": null,
   "id": "1cd79920-3367-491a-880b-cf4d20f5768a",
   "metadata": {},
   "outputs": [],
   "source": [
    "Name of blocks of few code that use to define in python language ?\n",
    "\n",
    "A Python program is constructed from code blocks. A block is a piece of Python program text that is executed as a unit.\n",
    "The following are blocks: a module, a function body, and a class definition.\n"
   ]
  },
  {
   "cell_type": "code",
   "execution_count": null,
   "id": "c4087a25-ee49-483d-a249-37e31c29093e",
   "metadata": {},
   "outputs": [],
   "source": [
    "State a charachter that useed to give single line comment ?\n",
    "\n",
    "# is used to give single line commnet\n"
   ]
  },
  {
   "cell_type": "code",
   "execution_count": null,
   "id": "ad311fa5-2aa1-4635-a7d4-3ba3733ab964",
   "metadata": {},
   "outputs": [],
   "source": [
    "which function help us to konw the version of python ?\n",
    "\n",
    "The function sys. version can help us to find the version of python.\n"
   ]
  },
  {
   "cell_type": "code",
   "execution_count": null,
   "id": "ff3515dd-5c59-4434-a033-0c84afa7ed8c",
   "metadata": {},
   "outputs": [],
   "source": [
    "what dose the pip satnd for python ? \n",
    "\n",
    "Pip stands for \"preferred installer program\".\n"
   ]
  },
  {
   "cell_type": "code",
   "execution_count": null,
   "id": "c2ba368b-b2f3-4d5c-8b51-0d11ebbad5fc",
   "metadata": {},
   "outputs": [],
   "source": [
    "Mention a few built-in function in python ?\n",
    "\n",
    "some buil-in function in python\n",
    ".count()\n",
    "type()\n",
    "len()\n",
    ".sort()\n",
    ".find()\n",
    ".extand()\n",
    ".append()\n"
   ]
  },
  {
   "cell_type": "code",
   "execution_count": null,
   "id": "ac061116-9c70-49fa-9f81-c9745d11c733",
   "metadata": {},
   "outputs": [],
   "source": [
    "What is the maximum length of identifier in python ?\n",
    "\n",
    "the maximum length of identifier in python is 79 character\n"
   ]
  },
  {
   "cell_type": "code",
   "execution_count": null,
   "id": "3046ffae-9744-4f23-ae47-d90735030cac",
   "metadata": {},
   "outputs": [],
   "source": [
    " What are the benefit of using python ?\n",
    "    \n",
    "Data science.\n",
    "Scientific and mathematical computing.\n",
    "Web development.\n",
    "Finance and trading.\n",
    "System automation and administration\n",
    "Basic game development.\n",
    "Data anylatics\n"
   ]
  },
  {
   "cell_type": "code",
   "execution_count": null,
   "id": "a2fa197f-e5db-4f48-ae1a-a213d8fdbffb",
   "metadata": {},
   "outputs": [],
   "source": [
    "how is the memory management in python ?\n",
    "\n",
    "Memory in Python is managed by Python private heap space. All Python objects and data structures are located\n",
    "in a private heap. This private heap is taken care of by Python Interpreter itself, and a programmer doesn't\n",
    "have access to this private heap."
   ]
  },
  {
   "cell_type": "code",
   "execution_count": null,
   "id": "c683fb65-0c5f-4ffa-a97e-60b5a56aaae6",
   "metadata": {},
   "outputs": [],
   "source": [
    "how to install python in window and set the path of variables ?\n",
    "\n",
    "First of all downlod the python vesion accroding to our requirment from the browser\n",
    "\n",
    "then copy the path of python file \n",
    "\n",
    "go to the advance setting \n",
    "\n",
    "go to the environment variable\n",
    "\n",
    "click on the path then creat new\n",
    "\n",
    "past your python path to the path.\n"
   ]
  },
  {
   "cell_type": "code",
   "execution_count": null,
   "id": "13bbee12-92f2-41de-b3e0-c178d0179941",
   "metadata": {},
   "outputs": [],
   "source": [
    "is indentation is require in python ?\n",
    "\n",
    "Indentation is a very important concept of Python because without properly indenting the Python code, you will end up\n",
    "seeing IndentationError and the code will not get compiled."
   ]
  }
 ],
 "metadata": {
  "kernelspec": {
   "display_name": "Python 3 (ipykernel)",
   "language": "python",
   "name": "python3"
  },
  "language_info": {
   "codemirror_mode": {
    "name": "ipython",
    "version": 3
   },
   "file_extension": ".py",
   "mimetype": "text/x-python",
   "name": "python",
   "nbconvert_exporter": "python",
   "pygments_lexer": "ipython3",
   "version": "3.10.8"
  }
 },
 "nbformat": 4,
 "nbformat_minor": 5
}
